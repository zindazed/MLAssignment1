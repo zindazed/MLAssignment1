{
 "cells": [
  {
   "cell_type": "code",
   "execution_count": 5,
   "id": "d3506c0d-d664-4836-bf8a-ccfbba628054",
   "metadata": {},
   "outputs": [],
   "source": [
    "import pandas as pd\n",
    "import numpy as np\n",
    "import matplotlib.pyplot as plt\n",
    "import seaborn as sns"
   ]
  },
  {
   "cell_type": "code",
   "execution_count": 6,
   "id": "f09da5ff-a56e-48aa-9b7c-51a2312b6118",
   "metadata": {},
   "outputs": [],
   "source": [
    "# Load the dataset\n",
    "df = pd.read_excel('transactions.xlsx')"
   ]
  },
  {
   "cell_type": "code",
   "execution_count": 13,
   "id": "edc5d7fe-a985-4f1a-a092-33832b88113b",
   "metadata": {},
   "outputs": [],
   "source": [
    "# Handle any infinite (inf) values in the data\n",
    "df = df.replace([np.inf, -np.inf], np.nan)"
   ]
  },
  {
   "cell_type": "code",
   "execution_count": 14,
   "id": "6943cdca-700d-475c-b4b6-7f843e924ac3",
   "metadata": {},
   "outputs": [
    {
     "name": "stdout",
     "output_type": "stream",
     "text": [
      "   Transaction Number  Origin No. Posting Date  Due Date Month-YY   BP Code  \\\n",
      "0              481205       53133   2024-01-31  31/01/24   Jan-24  CIND0824   \n",
      "1              480662       53129   2024-01-31  31/01/24   Jan-24  CIND0824   \n",
      "2              480662       53129   2024-01-31  31/01/24   Jan-24  CIND0824   \n",
      "3              480662       53129   2024-01-31  31/01/24   Jan-24  CIND0824   \n",
      "4              480662       53129   2024-01-31  31/01/24   Jan-24  CIND0824   \n",
      "\n",
      "               BP Name Sales Employee Name  Item No.  \\\n",
      "0  UBL OUTLET - RETAIL      Mercy Zalwango  IN102009   \n",
      "1  UBL OUTLET - RETAIL      Mercy Zalwango  IN102012   \n",
      "2  UBL OUTLET - RETAIL      Mercy Zalwango  IN102014   \n",
      "3  UBL OUTLET - RETAIL      Mercy Zalwango  IN102070   \n",
      "4  UBL OUTLET - RETAIL      Mercy Zalwango  IN102079   \n",
      "\n",
      "                Item Description  ... Product Category Selling Price  \\\n",
      "0          Chairs - Easy - White  ...        Furniture     20640.403   \n",
      "1          Chairs - Easy - Green  ...        Furniture     20640.403   \n",
      "2           Chairs - Easy - Grey  ...        Furniture     20640.403   \n",
      "3  Chairs - Easy - Clip cap blue  ...        Furniture     20640.403   \n",
      "4         Chairs - Easy - Purple  ...        Furniture     20640.403   \n",
      "\n",
      "   Actual Quantity Sold  Sales Value  Doc. Type            Region  \\\n",
      "0                  50.0   1032020.15         IN  BUGOLOBI WALKINS   \n",
      "1                   2.0     41280.81         IN  BUGOLOBI WALKINS   \n",
      "2                   2.0     41280.81         IN  BUGOLOBI WALKINS   \n",
      "3                   2.0     41280.81         IN  BUGOLOBI WALKINS   \n",
      "4                   2.0     41280.81         IN  BUGOLOBI WALKINS   \n",
      "\n",
      "            Channel Payment Terms Gross Profit  Week  \n",
      "0  BUGOLOBI WALKINS        C_Cash    403820.15   Wk5  \n",
      "1  BUGOLOBI WALKINS        C_Cash     16152.81   Wk5  \n",
      "2  BUGOLOBI WALKINS        C_Cash     16152.81   Wk5  \n",
      "3  BUGOLOBI WALKINS        C_Cash     16152.81   Wk5  \n",
      "4  BUGOLOBI WALKINS        C_Cash     16152.81   Wk5  \n",
      "\n",
      "[5 rows x 21 columns]\n"
     ]
    }
   ],
   "source": [
    "# Explore the dataset\n",
    "print(df.head())"
   ]
  },
  {
   "cell_type": "code",
   "execution_count": 15,
   "id": "f267d619-3680-4e41-8760-ebb5933b27ce",
   "metadata": {},
   "outputs": [
    {
     "name": "stdout",
     "output_type": "stream",
     "text": [
      "<class 'pandas.core.frame.DataFrame'>\n",
      "RangeIndex: 7499 entries, 0 to 7498\n",
      "Data columns (total 21 columns):\n",
      " #   Column                Non-Null Count  Dtype         \n",
      "---  ------                --------------  -----         \n",
      " 0   Transaction Number    7499 non-null   int64         \n",
      " 1   Origin No.            7499 non-null   int64         \n",
      " 2   Posting Date          7499 non-null   datetime64[ns]\n",
      " 3   Due Date              7499 non-null   object        \n",
      " 4   Month-YY              7499 non-null   object        \n",
      " 5   BP Code               7499 non-null   object        \n",
      " 6   BP Name               7499 non-null   object        \n",
      " 7   Sales Employee Name   7499 non-null   object        \n",
      " 8   Item No.              7499 non-null   object        \n",
      " 9   Item Description      7499 non-null   object        \n",
      " 10  Item Subcategory      7499 non-null   object        \n",
      " 11  Product Category      7470 non-null   object        \n",
      " 12  Selling Price         7499 non-null   float64       \n",
      " 13  Actual Quantity Sold  7499 non-null   float64       \n",
      " 14  Sales Value           7499 non-null   float64       \n",
      " 15  Doc. Type             7499 non-null   object        \n",
      " 16  Region                7499 non-null   object        \n",
      " 17  Channel               7499 non-null   object        \n",
      " 18  Payment Terms         7499 non-null   object        \n",
      " 19  Gross Profit          7499 non-null   float64       \n",
      " 20  Week                  7499 non-null   object        \n",
      "dtypes: datetime64[ns](1), float64(4), int64(2), object(14)\n",
      "memory usage: 1.2+ MB\n",
      "None\n"
     ]
    }
   ],
   "source": [
    "print(df.info())"
   ]
  },
  {
   "cell_type": "code",
   "execution_count": 16,
   "id": "16f45d14-6b44-42a3-a899-bbaf98fa69d1",
   "metadata": {},
   "outputs": [
    {
     "name": "stdout",
     "output_type": "stream",
     "text": [
      "       Transaction Number    Origin No.                   Posting Date  \\\n",
      "count         7499.000000   7499.000000                           7499   \n",
      "mean        389680.640752  43993.665822  2023-08-04 19:08:53.351113472   \n",
      "min         354153.000000   3091.000000            2023-01-02 00:00:00   \n",
      "25%         357926.000000  41074.000000            2023-04-02 00:00:00   \n",
      "50%         366586.000000  41884.000000            2023-08-02 00:00:00   \n",
      "75%         369572.000000  42187.000000            2023-11-03 00:00:00   \n",
      "max         481224.000000  53136.000000            2024-01-31 00:00:00   \n",
      "std          49330.899442   5621.276199                            NaN   \n",
      "\n",
      "       Selling Price  Actual Quantity Sold   Sales Value  Gross Profit  \n",
      "count    7499.000000           7499.000000  7.499000e+03  7.499000e+03  \n",
      "mean     6206.465440            465.052540  8.556997e+05  3.360999e+05  \n",
      "min         0.000000          -5800.000000 -2.667458e+07 -2.517846e+07  \n",
      "25%         0.000000              4.000000  0.000000e+00  0.000000e+00  \n",
      "50%      2558.911200             20.000000  2.066970e+04  4.617390e+03  \n",
      "75%      6096.472900            200.000000  2.687061e+05  6.680040e+04  \n",
      "max     80508.540700         120000.000000  7.876224e+07  2.517846e+07  \n",
      "std     12024.467137           3244.907035  3.846797e+06  1.494945e+06  \n"
     ]
    }
   ],
   "source": [
    "print(df.describe())"
   ]
  },
  {
   "cell_type": "code",
   "execution_count": 17,
   "id": "8c3ac311-4225-4cb4-a9ab-7a5dac4d2096",
   "metadata": {},
   "outputs": [
    {
     "name": "stderr",
     "output_type": "stream",
     "text": [
      "D:\\ProgramData\\anaconda3\\Lib\\site-packages\\seaborn\\_oldcore.py:1119: FutureWarning: use_inf_as_na option is deprecated and will be removed in a future version. Convert inf values to NaN before operating instead.\n",
      "  with pd.option_context('mode.use_inf_as_na', True):\n"
     ]
    },
    {
     "data": {
      "image/png": "[encoded data removed]",
      "text/plain": [
       "<Figure size 1200x600 with 1 Axes>"
      ]
     },
     "metadata": {},
     "output_type": "display_data"
    }
   ],
   "source": [
    "# Analyze the target variable (Sales Value)\n",
    "plt.figure(figsize=(12, 6))\n",
    "sns.histplot(df['Sales Value'], kde=True)\n",
    "plt.title('Distribution of Sales Value')\n",
    "plt.xlabel('Sales Value')\n",
    "plt.ylabel('Frequency')\n",
    "plt.show()"
   ]
  },
  {
   "cell_type": "code",
   "execution_count": null,
   "id": "14cec244-e70e-48a3-a3d8-ac19e97b427c",
   "metadata": {},
   "outputs": [],
   "source": []
  }
 ],
 "metadata": {
  "kernelspec": {
   "display_name": "Python 3 (ipykernel)",
   "language": "python",
   "name": "python3"
  },
  "language_info": {
   "codemirror_mode": {
    "name": "ipython",
    "version": 3
   },
   "file_extension": ".py",
   "mimetype": "text/x-python",
   "name": "python",
   "nbconvert_exporter": "python",
   "pygments_lexer": "ipython3",
   "version": "3.11.7"
  }
 },
 "nbformat": 4,
 "nbformat_minor": 5
}
