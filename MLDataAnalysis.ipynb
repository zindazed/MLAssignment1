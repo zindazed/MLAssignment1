{
 "cells": [
  {
   "cell_type": "markdown",
   "id": "bce8bb39-af73-414f-bf9d-c22679b81c7d",
   "metadata": {},
   "source": [
    "My Questions:"
   ]
  },
  {
   "cell_type": "markdown",
   "id": "4a17f4ad-0e38-4e68-b271-5aa476564f9b",
   "metadata": {},
   "source": [
    "Questions that helped me select My Dataset:"
   ]
  },
  {
   "cell_type": "raw",
   "id": "1beb37d3-0e06-49e6-9db8-59ca0e7f8e7b",
   "metadata": {},
   "source": [
    "1. What value can Machine Learning add to my work?"
   ]
  },
  {
   "cell_type": "markdown",
   "id": "1d6c179f-bb7f-44d0-afcc-76e1aecce4a6",
   "metadata": {},
   "source": [
    "Data Wrangling Questions:"
   ]
  },
  {
   "cell_type": "raw",
   "id": "c75ef145-e0e1-47f0-a5e1-db737e05ebb3",
   "metadata": {},
   "source": [
    "2. Is the data clean?"
   ]
  },
  {
   "cell_type": "markdown",
   "id": "feff79d4-8a62-4012-8de7-cdb269a092cb",
   "metadata": {},
   "source": [
    "Exploratory Data Analysis Questions:"
   ]
  },
  {
   "cell_type": "raw",
   "id": "5581a19b-2585-42d8-8a4c-56700a0889c2",
   "metadata": {},
   "source": [
    "3. What products are most selling? (Rationale: to know what products to produce more of)"
   ]
  },
  {
   "cell_type": "raw",
   "id": "98b9c7ff-de43-4499-a8c2-78471e8dcb17",
   "metadata": {},
   "source": [
    "4. What are the best performing regions? (Rationale: to know what regions to send more products to)"
   ]
  },
  {
   "cell_type": "raw",
   "id": "4bd7b5ed-952a-4986-bec4-a4fcd73ec0d0",
   "metadata": {},
   "source": [
    "5. What are the best performing Channels? (Rationale: to know which channel to more send products through)"
   ]
  },
  {
   "cell_type": "raw",
   "id": "d96b25e9-6172-4c5b-b5e1-514e6338f118",
   "metadata": {},
   "source": [
    "6. What are the best-performing Sales Employees? (Rationale: To recognise the high performing people and reward them as a means of motivating the rest)"
   ]
  },
  {
   "cell_type": "raw",
   "id": "cef03301-d747-47f0-b67c-a578465abde2",
   "metadata": {},
   "source": [
    "7. What are the best performing BP? (Rationale: To do our best to keep our best Customers)"
   ]
  },
  {
   "cell_type": "markdown",
   "id": "1e208e13-13df-4368-a4f4-cb16c3ab3e6a",
   "metadata": {},
   "source": [
    "The Answers"
   ]
  },
  {
   "cell_type": "markdown",
   "id": "3cef7fd4-75d3-4536-aae1-3da2af70fe13",
   "metadata": {},
   "source": [
    "1. What value can Machine Learning add to my work?"
   ]
  },
  {
   "cell_type": "raw",
   "id": "782617b3-b3d0-4ec2-9b2d-68fea33c1f70",
   "metadata": {},
   "source": [
    "I noted that one of our clients struggles with analysis of their transaction data. They would like to make better decisions for their business going forward. Issues to do with, what products can we produce more of, how can we identify and reward our best performing sales employees, how are our channels performing. How are we doing in the different regions we operate in? Given the opportunity that this course has provided us with, I think this is a way Machine learning can add value to my work. (ie: through applying techniques we are learning to satisfy the desires of the client)"
   ]
  },
  {
   "cell_type": "markdown",
   "id": "8328171a-9793-40bb-aad2-aa3a1bc84d91",
   "metadata": {},
   "source": [
    "The Transactions Dataset"
   ]
  },
  {
   "cell_type": "code",
   "execution_count": 1,
   "id": "91dc08ae-12d1-48cf-af6c-a038deec8eb8",
   "metadata": {},
   "outputs": [],
   "source": [
    "import pandas as pd"
   ]
  },
  {
   "cell_type": "code",
   "execution_count": 2,
   "id": "ecd8f404-102b-416b-807b-8ce8dc11b12f",
   "metadata": {},
   "outputs": [],
   "source": [
    "transactions = pd.read_excel('transactions.xlsx')"
   ]
  },
  {
   "cell_type": "code",
   "execution_count": 3,
   "id": "9801f065-d484-422b-a073-bea9367c01b5",
   "metadata": {},
   "outputs": [
    {
     "data": {
      "text/html": [
       "<div>\n",
       "<style scoped>\n",
       "    .dataframe tbody tr th:only-of-type {\n",
       "        vertical-align: middle;\n",
       "    }\n",
       "\n",
       "    .dataframe tbody tr th {\n",
       "        vertical-align: top;\n",
       "    }\n",
       "\n",
       "    .dataframe thead th {\n",
       "        text-align: right;\n",
       "    }\n",
       "</style>\n",
       "<table border=\"1\" class=\"dataframe\">\n",
       "  <thead>\n",
       "    <tr style=\"text-align: right;\">\n",
       "      <th></th>\n",
       "      <th>Transaction Number</th>\n",
       "      <th>Origin No.</th>\n",
       "      <th>Posting Date</th>\n",
       "      <th>Due Date</th>\n",
       "      <th>Month-YY</th>\n",
       "      <th>BP Code</th>\n",
       "      <th>BP Name</th>\n",
       "      <th>Sales Employee Name</th>\n",
       "      <th>Item No.</th>\n",
       "      <th>Item Description</th>\n",
       "      <th>...</th>\n",
       "      <th>Product Category</th>\n",
       "      <th>Selling Price</th>\n",
       "      <th>Actual Quantity Sold</th>\n",
       "      <th>Sales Value</th>\n",
       "      <th>Doc. Type</th>\n",
       "      <th>Region</th>\n",
       "      <th>Channel</th>\n",
       "      <th>Payment Terms</th>\n",
       "      <th>Gross Profit</th>\n",
       "      <th>Week</th>\n",
       "    </tr>\n",
       "  </thead>\n",
       "  <tbody>\n",
       "    <tr>\n",
       "      <th>0</th>\n",
       "      <td>481205</td>\n",
       "      <td>53133</td>\n",
       "      <td>2024-01-31</td>\n",
       "      <td>31/01/24</td>\n",
       "      <td>Jan-24</td>\n",
       "      <td>CIND0824</td>\n",
       "      <td>UBL OUTLET - RETAIL</td>\n",
       "      <td>Mercy Zalwango</td>\n",
       "      <td>IN102009</td>\n",
       "      <td>Chairs - Easy - White</td>\n",
       "      <td>...</td>\n",
       "      <td>Furniture</td>\n",
       "      <td>20640.403</td>\n",
       "      <td>50.0</td>\n",
       "      <td>1032020.15</td>\n",
       "      <td>IN</td>\n",
       "      <td>BUGOLOBI WALKINS</td>\n",
       "      <td>BUGOLOBI WALKINS</td>\n",
       "      <td>C_Cash</td>\n",
       "      <td>403820.15</td>\n",
       "      <td>Wk5</td>\n",
       "    </tr>\n",
       "    <tr>\n",
       "      <th>1</th>\n",
       "      <td>480662</td>\n",
       "      <td>53129</td>\n",
       "      <td>2024-01-31</td>\n",
       "      <td>31/01/24</td>\n",
       "      <td>Jan-24</td>\n",
       "      <td>CIND0824</td>\n",
       "      <td>UBL OUTLET - RETAIL</td>\n",
       "      <td>Mercy Zalwango</td>\n",
       "      <td>IN102012</td>\n",
       "      <td>Chairs - Easy - Green</td>\n",
       "      <td>...</td>\n",
       "      <td>Furniture</td>\n",
       "      <td>20640.403</td>\n",
       "      <td>2.0</td>\n",
       "      <td>41280.81</td>\n",
       "      <td>IN</td>\n",
       "      <td>BUGOLOBI WALKINS</td>\n",
       "      <td>BUGOLOBI WALKINS</td>\n",
       "      <td>C_Cash</td>\n",
       "      <td>16152.81</td>\n",
       "      <td>Wk5</td>\n",
       "    </tr>\n",
       "    <tr>\n",
       "      <th>2</th>\n",
       "      <td>480662</td>\n",
       "      <td>53129</td>\n",
       "      <td>2024-01-31</td>\n",
       "      <td>31/01/24</td>\n",
       "      <td>Jan-24</td>\n",
       "      <td>CIND0824</td>\n",
       "      <td>UBL OUTLET - RETAIL</td>\n",
       "      <td>Mercy Zalwango</td>\n",
       "      <td>IN102014</td>\n",
       "      <td>Chairs - Easy - Grey</td>\n",
       "      <td>...</td>\n",
       "      <td>Furniture</td>\n",
       "      <td>20640.403</td>\n",
       "      <td>2.0</td>\n",
       "      <td>41280.81</td>\n",
       "      <td>IN</td>\n",
       "      <td>BUGOLOBI WALKINS</td>\n",
       "      <td>BUGOLOBI WALKINS</td>\n",
       "      <td>C_Cash</td>\n",
       "      <td>16152.81</td>\n",
       "      <td>Wk5</td>\n",
       "    </tr>\n",
       "    <tr>\n",
       "      <th>3</th>\n",
       "      <td>480662</td>\n",
       "      <td>53129</td>\n",
       "      <td>2024-01-31</td>\n",
       "      <td>31/01/24</td>\n",
       "      <td>Jan-24</td>\n",
       "      <td>CIND0824</td>\n",
       "      <td>UBL OUTLET - RETAIL</td>\n",
       "      <td>Mercy Zalwango</td>\n",
       "      <td>IN102070</td>\n",
       "      <td>Chairs - Easy - Clip cap blue</td>\n",
       "      <td>...</td>\n",
       "      <td>Furniture</td>\n",
       "      <td>20640.403</td>\n",
       "      <td>2.0</td>\n",
       "      <td>41280.81</td>\n",
       "      <td>IN</td>\n",
       "      <td>BUGOLOBI WALKINS</td>\n",
       "      <td>BUGOLOBI WALKINS</td>\n",
       "      <td>C_Cash</td>\n",
       "      <td>16152.81</td>\n",
       "      <td>Wk5</td>\n",
       "    </tr>\n",
       "    <tr>\n",
       "      <th>4</th>\n",
       "      <td>480662</td>\n",
       "      <td>53129</td>\n",
       "      <td>2024-01-31</td>\n",
       "      <td>31/01/24</td>\n",
       "      <td>Jan-24</td>\n",
       "      <td>CIND0824</td>\n",
       "      <td>UBL OUTLET - RETAIL</td>\n",
       "      <td>Mercy Zalwango</td>\n",
       "      <td>IN102079</td>\n",
       "      <td>Chairs - Easy - Purple</td>\n",
       "      <td>...</td>\n",
       "      <td>Furniture</td>\n",
       "      <td>20640.403</td>\n",
       "      <td>2.0</td>\n",
       "      <td>41280.81</td>\n",
       "      <td>IN</td>\n",
       "      <td>BUGOLOBI WALKINS</td>\n",
       "      <td>BUGOLOBI WALKINS</td>\n",
       "      <td>C_Cash</td>\n",
       "      <td>16152.81</td>\n",
       "      <td>Wk5</td>\n",
       "    </tr>\n",
       "  </tbody>\n",
       "</table>\n",
       "<p>5 rows × 21 columns</p>\n",
       "</div>"
      ],
      "text/plain": [
       "   Transaction Number  Origin No. Posting Date  Due Date Month-YY   BP Code  \\\n",
       "0              481205       53133   2024-01-31  31/01/24   Jan-24  CIND0824   \n",
       "1              480662       53129   2024-01-31  31/01/24   Jan-24  CIND0824   \n",
       "2              480662       53129   2024-01-31  31/01/24   Jan-24  CIND0824   \n",
       "3              480662       53129   2024-01-31  31/01/24   Jan-24  CIND0824   \n",
       "4              480662       53129   2024-01-31  31/01/24   Jan-24  CIND0824   \n",
       "\n",
       "               BP Name Sales Employee Name  Item No.  \\\n",
       "0  UBL OUTLET - RETAIL      Mercy Zalwango  IN102009   \n",
       "1  UBL OUTLET - RETAIL      Mercy Zalwango  IN102012   \n",
       "2  UBL OUTLET - RETAIL      Mercy Zalwango  IN102014   \n",
       "3  UBL OUTLET - RETAIL      Mercy Zalwango  IN102070   \n",
       "4  UBL OUTLET - RETAIL      Mercy Zalwango  IN102079   \n",
       "\n",
       "                Item Description  ... Product Category Selling Price  \\\n",
       "0          Chairs - Easy - White  ...        Furniture     20640.403   \n",
       "1          Chairs - Easy - Green  ...        Furniture     20640.403   \n",
       "2           Chairs - Easy - Grey  ...        Furniture     20640.403   \n",
       "3  Chairs - Easy - Clip cap blue  ...        Furniture     20640.403   \n",
       "4         Chairs - Easy - Purple  ...        Furniture     20640.403   \n",
       "\n",
       "   Actual Quantity Sold  Sales Value  Doc. Type            Region  \\\n",
       "0                  50.0   1032020.15         IN  BUGOLOBI WALKINS   \n",
       "1                   2.0     41280.81         IN  BUGOLOBI WALKINS   \n",
       "2                   2.0     41280.81         IN  BUGOLOBI WALKINS   \n",
       "3                   2.0     41280.81         IN  BUGOLOBI WALKINS   \n",
       "4                   2.0     41280.81         IN  BUGOLOBI WALKINS   \n",
       "\n",
       "            Channel Payment Terms Gross Profit  Week  \n",
       "0  BUGOLOBI WALKINS        C_Cash    403820.15   Wk5  \n",
       "1  BUGOLOBI WALKINS        C_Cash     16152.81   Wk5  \n",
       "2  BUGOLOBI WALKINS        C_Cash     16152.81   Wk5  \n",
       "3  BUGOLOBI WALKINS        C_Cash     16152.81   Wk5  \n",
       "4  BUGOLOBI WALKINS        C_Cash     16152.81   Wk5  \n",
       "\n",
       "[5 rows x 21 columns]"
      ]
     },
     "execution_count": 3,
     "metadata": {},
     "output_type": "execute_result"
    }
   ],
   "source": [
    "transactions.head()"
   ]
  },
  {
   "cell_type": "markdown",
   "id": "1b145bbb-0500-47c7-8ae8-201b415e3735",
   "metadata": {},
   "source": [
    "2. Is the data clean?"
   ]
  },
  {
   "cell_type": "raw",
   "id": "99f750f1-5a1c-4b1d-9306-260cc5b907b5",
   "metadata": {},
   "source": [
    "Let's Start by Validating the datatypes:"
   ]
  },
  {
   "cell_type": "code",
   "execution_count": 4,
   "id": "ec3e4dd5-1bc6-49c1-9bce-758650d595ac",
   "metadata": {},
   "outputs": [
    {
     "name": "stdout",
     "output_type": "stream",
     "text": [
      "Error: Transaction Number in row 0 should be a string, but is <class 'int'>\n"
     ]
    }
   ],
   "source": [
    "def validateDatatype():    \n",
    "    myStrings = ['Transaction Number','BP Code','BP Name','Sales Employee Name','Item No.','Item Description','Item Subcategory','Product Category','Region','Channel']\n",
    "    myDates = ['Posting Date']\n",
    "    myNumbers = ['Selling Price','Actual Quantity Sold','Sales Value','Gross Profit']\n",
    "    \n",
    "    # Validate data types\n",
    "    foundError = False\n",
    "    for index, row in transactions.iterrows():\n",
    "        for field in myStrings:\n",
    "            if not isinstance(row[field], str):\n",
    "                print(f\"Error: {field} in row {index} should be a string, but is {type(row[field])}\")\n",
    "                foundError = True\n",
    "                break\n",
    "    \n",
    "        for field in myDates:\n",
    "            try:\n",
    "                pd.to_datetime(row[field])\n",
    "            except ValueError:\n",
    "                print(f\"Error: {field} in row {index} should be a date, but is invalid\")\n",
    "                foundError = True\n",
    "                break\n",
    "    \n",
    "        for field in myNumbers:\n",
    "            try:\n",
    "                float(row[field])\n",
    "            except ValueError:\n",
    "                print(f\"Error: {field} in row {index} should be a number, but is {row[field]}\")\n",
    "                foundError = True\n",
    "                break\n",
    "        if(foundError):\n",
    "            break\n",
    "    if(not foundError):\n",
    "        print(\"None\")\n",
    "\n",
    "validateDatatype()"
   ]
  },
  {
   "cell_type": "raw",
   "id": "7df08aad-b8a5-4b15-b9c4-4ba8dd74ec64",
   "metadata": {},
   "source": [
    "Converting Transaction Number Field Datatype from int to String"
   ]
  },
  {
   "cell_type": "code",
   "execution_count": 5,
   "id": "908d761c-7cee-4cc0-a0a7-4904589877ba",
   "metadata": {},
   "outputs": [
    {
     "name": "stdout",
     "output_type": "stream",
     "text": [
      "Error: Product Category in row 7 should be a string, but is <class 'int'>\n"
     ]
    }
   ],
   "source": [
    "transactions['Transaction Number'] = transactions['Transaction Number'].astype(str)\n",
    "\n",
    "#lets test again\n",
    "validateDatatype()"
   ]
  },
  {
   "cell_type": "code",
   "execution_count": 6,
   "id": "c8615bbf-8272-4a3d-95f5-20681aebc197",
   "metadata": {},
   "outputs": [
    {
     "name": "stdout",
     "output_type": "stream",
     "text": [
      "None\n"
     ]
    }
   ],
   "source": [
    "transactions['Product Category'] = transactions['Product Category'].astype(str)\n",
    "#lets test again\n",
    "validateDatatype()"
   ]
  },
  {
   "cell_type": "raw",
   "id": "e5a09903-0cb8-4909-a8b9-107e4d470c0b",
   "metadata": {},
   "source": [
    "Let's Check for leading or trailing spaces:"
   ]
  },
  {
   "cell_type": "code",
   "execution_count": 7,
   "id": "1f4cffb9-6a9f-420c-a2a6-8c2f02550b1b",
   "metadata": {},
   "outputs": [
    {
     "name": "stdout",
     "output_type": "stream",
     "text": [
      "None\n"
     ]
    }
   ],
   "source": [
    "if transactions['BP Code'].str.contains(r'^\\s|\\s$', regex=True).any():\n",
    "    print(\"Spaces found!\")\n",
    "else:\n",
    "    print(\"None\")"
   ]
  },
  {
   "cell_type": "code",
   "execution_count": 8,
   "id": "02e1a7a0-09f0-4ab1-ab80-9cd7b1a9e6d6",
   "metadata": {},
   "outputs": [
    {
     "name": "stdout",
     "output_type": "stream",
     "text": [
      "None\n"
     ]
    }
   ],
   "source": [
    "if transactions['BP Name'].str.contains(r'^\\s|\\s$', regex=True).any():\n",
    "    print(\"Spaces found!\")\n",
    "else:\n",
    "    print(\"None\")"
   ]
  },
  {
   "cell_type": "code",
   "execution_count": 9,
   "id": "6b5d0548-5d49-4597-a959-fe3f155140c8",
   "metadata": {},
   "outputs": [
    {
     "name": "stdout",
     "output_type": "stream",
     "text": [
      "None\n"
     ]
    }
   ],
   "source": [
    "if transactions['Sales Employee Name'].str.contains(r'^\\s|\\s$', regex=True).any():\n",
    "    print(\"Extra spaces found!\")\n",
    "else:\n",
    "    print(\"None\")"
   ]
  },
  {
   "cell_type": "code",
   "execution_count": 10,
   "id": "dba25726-d8e9-4870-974a-7da8d3fa3ea4",
   "metadata": {},
   "outputs": [
    {
     "name": "stdout",
     "output_type": "stream",
     "text": [
      "None\n"
     ]
    }
   ],
   "source": [
    "if transactions['Item No.'].str.contains(r'^\\s|\\s$', regex=True).any():\n",
    "    print(\"Spaces found!\")\n",
    "else:\n",
    "    print(\"None\")"
   ]
  },
  {
   "cell_type": "code",
   "execution_count": 11,
   "id": "a7f9f6be-e454-42f9-acf0-868cb668cb5b",
   "metadata": {},
   "outputs": [
    {
     "name": "stdout",
     "output_type": "stream",
     "text": [
      "None\n"
     ]
    }
   ],
   "source": [
    "if transactions['Item Description'].str.contains(r'^\\s|\\s$', regex=True).any():\n",
    "    print(\"Spaces found!\")\n",
    "else:\n",
    "    print(\"None\")"
   ]
  },
  {
   "cell_type": "code",
   "execution_count": 12,
   "id": "dbe37a5e-a4c0-4efa-a1f0-cc9550e39aa3",
   "metadata": {},
   "outputs": [
    {
     "name": "stdout",
     "output_type": "stream",
     "text": [
      "None\n"
     ]
    }
   ],
   "source": [
    "if transactions['Item Subcategory'].str.contains(r'^\\s|\\s$', regex=True).any():\n",
    "    print(\"Spaces found!\")\n",
    "else:\n",
    "    print(\"None\")"
   ]
  },
  {
   "cell_type": "code",
   "execution_count": 13,
   "id": "93c4d5e6-da68-43e5-a58c-8ab6556f14f1",
   "metadata": {},
   "outputs": [
    {
     "name": "stdout",
     "output_type": "stream",
     "text": [
      "None\n"
     ]
    }
   ],
   "source": [
    "if transactions['Product Category'].str.contains(r'^\\s|\\s$', regex=True).any():\n",
    "    print(\"Spaces found!\")\n",
    "else:\n",
    "    print(\"None\")"
   ]
  },
  {
   "cell_type": "code",
   "execution_count": 14,
   "id": "12be712a-3092-4092-99a7-f72b84159232",
   "metadata": {},
   "outputs": [
    {
     "name": "stdout",
     "output_type": "stream",
     "text": [
      "None\n"
     ]
    }
   ],
   "source": [
    "if transactions['Region'].str.contains(r'^\\s|\\s$', regex=True).any():\n",
    "    print(\"Spaces found!\")\n",
    "else:\n",
    "    print(\"None\")"
   ]
  },
  {
   "cell_type": "code",
   "execution_count": 15,
   "id": "2af6f6be-ccd5-4399-855e-6703bd2a649c",
   "metadata": {},
   "outputs": [
    {
     "name": "stdout",
     "output_type": "stream",
     "text": [
      "None\n"
     ]
    }
   ],
   "source": [
    "if transactions['Channel'].str.contains(r'^\\s|\\s$', regex=True).any():\n",
    "    print(\"Spaces found!\")\n",
    "else:\n",
    "    print(\"None\")"
   ]
  },
  {
   "cell_type": "raw",
   "id": "685c7ef5-f8fe-4589-bec7-efd672a638e2",
   "metadata": {},
   "source": [
    "Next, Lets Check for empty strings:"
   ]
  },
  {
   "cell_type": "code",
   "execution_count": 16,
   "id": "9434854d-d0b4-4ee4-bdad-cd058d0ad47e",
   "metadata": {},
   "outputs": [
    {
     "name": "stdout",
     "output_type": "stream",
     "text": [
      "None\n"
     ]
    }
   ],
   "source": [
    "def checkEmpty():    \n",
    "    myStrings = ['Transaction Number','BP Code','BP Name','Sales Employee Name','Item No.','Item Description','Item Subcategory','Product Category','Region','Channel']\n",
    "    myDates = ['Posting Date']\n",
    "    myNumbers = ['Selling Price','Actual Quantity Sold','Sales Value','Gross Profit']\n",
    "\n",
    "    foundError = False\n",
    "    for text in myStrings:\n",
    "        if transactions[text].isnull().any() or transactions[text].eq(\"\").any():\n",
    "            print(\"Empty string found!\")\n",
    "            foundError = True\n",
    "            break\n",
    "\n",
    "    for text in myDates:\n",
    "        if transactions[text].isnull().any() or transactions[text].eq(\"\").any():\n",
    "            print(\"Empty date found!\")\n",
    "            foundError = True\n",
    "            break\n",
    "\n",
    "    for text in myNumbers:\n",
    "        if transactions[text].isnull().any() or transactions[text].eq(\"\").any():\n",
    "            print(\"Empty date found!\")\n",
    "            foundError = True\n",
    "            break\n",
    "\n",
    "    if(not foundError):\n",
    "        print(\"None\")\n",
    "checkEmpty()\n"
   ]
  },
  {
   "cell_type": "raw",
   "id": "3e23fff4-669b-47c9-b231-2ed184fd1fb9",
   "metadata": {},
   "source": [
    "Next, Lets Check for duplicates:"
   ]
  },
  {
   "cell_type": "code",
   "execution_count": 17,
   "id": "23cd8397-1a8a-4f58-ae26-c8d68d5f18f6",
   "metadata": {},
   "outputs": [
    {
     "name": "stdout",
     "output_type": "stream",
     "text": [
      "     Transaction Number  Origin No. Posting Date             Due Date  \\\n",
      "363              368981       42119   2023-10-03  2023-03-10 00:00:00   \n",
      "399              368890       42108   2023-09-03  2023-03-09 00:00:00   \n",
      "1987             479952       53056   2024-01-30             30/01/24   \n",
      "2199             472342       52292   2024-01-06             06/01/24   \n",
      "2322             470990       52241   2024-01-03             03/01/24   \n",
      "2489             369573       42188   2023-11-03  2023-03-11 00:00:00   \n",
      "2523             369568       42184   2023-11-03  2023-03-11 00:00:00   \n",
      "3238             366979       41934   2023-03-03  2023-03-03 00:00:00   \n",
      "3297             366861       41916   2023-03-03  2023-03-03 00:00:00   \n",
      "4122             357905       41074   2023-08-02  2023-02-08 00:00:00   \n",
      "4187             357510       41051   2023-07-02  2023-02-07 00:00:00   \n",
      "4188             357510       41051   2023-07-02  2023-02-07 00:00:00   \n",
      "4189             357510       41051   2023-07-02  2023-02-07 00:00:00   \n",
      "4535             355977       40939   2023-04-02  2023-02-04 00:00:00   \n",
      "4747             355059       40854   2023-02-02  2023-02-02 00:00:00   \n",
      "4903             367761       41990   2023-06-03  2023-03-06 00:00:00   \n",
      "4999             358944       41166   2023-10-02  2023-02-10 00:00:00   \n",
      "5095             355940       40937   2023-04-02  2023-02-04 00:00:00   \n",
      "5389             480214       53081   2024-01-31  2024-01-03 00:00:00   \n",
      "5392             480214       53081   2024-01-31  2024-01-03 00:00:00   \n",
      "5812             471012       52247   2024-01-04             03/02/24   \n",
      "5849             369205       42136   2023-10-03  2023-03-24 00:00:00   \n",
      "5871             368748       42077   2023-09-03  2023-03-23 00:00:00   \n",
      "5959             368294       42035   2023-07-03  2023-04-06 00:00:00   \n",
      "6579             356112       40967   2023-04-02  2023-02-04 00:00:00   \n",
      "6791             480548       53117   2024-01-31             31/01/24   \n",
      "7041             369572       42187   2023-11-03  2023-03-11 00:00:00   \n",
      "\n",
      "     Month-YY   BP Code                                            BP Name  \\\n",
      "363    Mar-23  CINS0767                    HAN & IVA SOUVENIR DOGS LIMITED   \n",
      "399    Mar-23  CIND0629                          FACTORY OUTLET CASH SALES   \n",
      "1987   Jan-24  CDIS0006                        RONAM INTERNATIONAL LIMITED   \n",
      "2199   Jan-24  CDIS0003                                  MEWA DUCU (U) LTD   \n",
      "2322   Jan-24  CDIS0705  VESOM PLASTICS AND GENERAL MERCHANDISE SMC LIM...   \n",
      "2489   Mar-23  CDIS0711                                Mr. STEVEN SERUWAGI   \n",
      "2523   Mar-23  CDIS0016                                   Mr. JACKSON OUMA   \n",
      "3238   Mar-23  CDIS0006                        RONAM INTERNATIONAL LIMITED   \n",
      "3297   Mar-23  CDIS0705  VESOM PLASTICS AND GENERAL MERCHANDISE SMC LIM...   \n",
      "4122   Feb-23  CDIS0006                        RONAM INTERNATIONAL LIMITED   \n",
      "4187   Feb-23  CDIS0008                   SEVEN EAGLES INVESTMENTS LIMITED   \n",
      "4188   Feb-23  CDIS0008                   SEVEN EAGLES INVESTMENTS LIMITED   \n",
      "4189   Feb-23  CDIS0008                   SEVEN EAGLES INVESTMENTS LIMITED   \n",
      "4535   Feb-23  CDIS0002                          EQUIPCARE INVESTMENTS LTD   \n",
      "4747   Feb-23  CDIS0006                        RONAM INTERNATIONAL LIMITED   \n",
      "4903   Mar-23  CINS0652                            TONA STAR PRODUCTS  LTD   \n",
      "4999   Feb-23  CINS0652                            TONA STAR PRODUCTS  LTD   \n",
      "5095   Feb-23  CINS0555        PROGRESS EAST AFRICA BUSINESS GROUP LIMITED   \n",
      "5389   Jan-24  CSUP0079                             TANGO SHOPPERS SMC LTD   \n",
      "5392   Jan-24  CSUP0079                             TANGO SHOPPERS SMC LTD   \n",
      "5812   Jan-24  CSUP0083                           CAPITAL SHOPPERS LIMITED   \n",
      "5849   Mar-23  CINS0811                               COPIA UGANDA LIMITED   \n",
      "5871   Mar-23  CSUP0041                              D & M SUPERMARKET LTD   \n",
      "5959   Mar-23  CSUP0083                           CAPITAL SHOPPERS LIMITED   \n",
      "6579   Feb-23  CSUP0023                       BESTBUY SUPERMARKETS LIMITED   \n",
      "6791   Jan-24  CIND0826                                UMA OUTLET - RETAIL   \n",
      "7041   Mar-23  CIND0750                                   UMA OUTLET SALES   \n",
      "\n",
      "      Sales Employee Name  Item No.  \\\n",
      "363   -No Sales Employee-  IN203019   \n",
      "399      Sheilla Atuhaire  IN205001   \n",
      "1987      Namutebi Phiona  IN204051   \n",
      "2199         Moses Wamono  IN102070   \n",
      "2322      Mirembe Harriet  IN102002   \n",
      "2489        Nankya Lilian  IN109017   \n",
      "2523        Nankya Lilian  IN109017   \n",
      "3238      Namutebi Phiona  IN108004   \n",
      "3297      Mirembe Harriet  IN108004   \n",
      "4122      Namutebi Phiona  IN203006   \n",
      "4187        Nankya Lilian  IN204070   \n",
      "4188        Nankya Lilian  IN204004   \n",
      "4189        Nankya Lilian  IN110004   \n",
      "4535      Mirembe Harriet  IN108004   \n",
      "4747      Namutebi Phiona  IN203006   \n",
      "4903  -No Sales Employee-  IN203012   \n",
      "4999  -No Sales Employee-  IN203012   \n",
      "5095  -No Sales Employee-  IN203030   \n",
      "5389  -No Sales Employee-  IN204051   \n",
      "5392  -No Sales Employee-  IN204051   \n",
      "5812  -No Sales Employee-  IN203006   \n",
      "5849  -No Sales Employee-  IN205001   \n",
      "5871     Jackline Nantaba  IN203006   \n",
      "5959  -No Sales Employee-  IN203006   \n",
      "6579  -No Sales Employee-  IN203006   \n",
      "6791        Doreen Baraba  IN204051   \n",
      "7041     Jackline Nantaba  IN111025   \n",
      "\n",
      "                                       Item Description  ...  \\\n",
      "363   Jerry Cans - 5 ltr 230gms - Opaque - without c...  ...   \n",
      "399                         Jerrican Cover 20 ltr - Red  ...   \n",
      "1987          Bucket Handle Wire  4.5 ltr. (Pcs) 33.6gm  ...   \n",
      "2199                      Chairs - Easy - Clip cap blue  ...   \n",
      "2322                     Chairs - Legend - Clipcap Blue  ...   \n",
      "2489                    Soup  plate (pc) - 60gms - Blue  ...   \n",
      "2523                    Soup  plate (pc) - 60gms - Blue  ...   \n",
      "3238  Tooth brush-Adult (Classic Cardboard) - 24pkts...  ...   \n",
      "3297  Tooth brush-Adult (Classic Cardboard) - 24pkts...  ...   \n",
      "4122   Jerrican Cover 3 ltr Side Handle and 5 ltr - Red  ...   \n",
      "4187            Bucket 10 ltr - P/Green - without cover  ...   \n",
      "4188                      Bucket Cover 10 ltr - P/Green  ...   \n",
      "4189                            Bucket 10 ltr - P/Green  ...   \n",
      "4535  Tooth brush-Adult (Classic Cardboard) - 24pkts...  ...   \n",
      "4747   Jerrican Cover 3 ltr Side Handle and 5 ltr - Red  ...   \n",
      "4903            Jerrican Cover 1 ltr Round Bottle - Red  ...   \n",
      "4999            Jerrican Cover 1 ltr Round Bottle - Red  ...   \n",
      "5095  Jerry Cans -1ltr Round Bottle Clear - without ...  ...   \n",
      "5389          Bucket Handle Wire  4.5 ltr. (Pcs) 33.6gm  ...   \n",
      "5392          Bucket Handle Wire  4.5 ltr. (Pcs) 33.6gm  ...   \n",
      "5812   Jerrican Cover 3 ltr Side Handle and 5 ltr - Red  ...   \n",
      "5849                        Jerrican Cover 20 ltr - Red  ...   \n",
      "5871   Jerrican Cover 3 ltr Side Handle and 5 ltr - Red  ...   \n",
      "5959   Jerrican Cover 3 ltr Side Handle and 5 ltr - Red  ...   \n",
      "6579   Jerrican Cover 3 ltr Side Handle and 5 ltr - Red  ...   \n",
      "6791          Bucket Handle Wire  4.5 ltr. (Pcs) 33.6gm  ...   \n",
      "7041                Basin -Round -15 ltr  VIRGIN - Blue  ...   \n",
      "\n",
      "       Product Category Selling Price  Actual Quantity Sold  Sales Value  \\\n",
      "363   Packaging Bottles        0.0000                  50.0         0.00   \n",
      "399                   0        0.0000                 100.0         0.00   \n",
      "1987                  0        0.0000                 100.0         0.00   \n",
      "2199          Furniture    18098.0302                 100.0   1809803.02   \n",
      "2322          Furniture    18092.7030                  50.0    904635.15   \n",
      "2489          Tableware      541.6873                 720.0    390014.92   \n",
      "2523          Tableware      541.6873                1200.0    650024.87   \n",
      "3238             Dental      284.2083               28800.0   8185200.51   \n",
      "3297             Dental      284.2083               14400.0   4092600.25   \n",
      "4122                  0        0.0000                  50.0         0.00   \n",
      "4187            Buckets        0.0000                 150.0         0.00   \n",
      "4188                  0        0.0000                 150.0         0.00   \n",
      "4189            Buckets     3981.2825                 150.0    597192.38   \n",
      "4535             Dental      284.2083               14400.0   4092600.25   \n",
      "4747                  0        0.0000                  50.0         0.00   \n",
      "4903                  0        0.0000                 600.0         0.00   \n",
      "4999                  0        0.0000                 400.0         0.00   \n",
      "5095  Packaging Bottles        0.0000                 200.0         0.00   \n",
      "5389                  0        0.0000                   2.0         0.00   \n",
      "5392                  0        0.0000                   2.0         0.00   \n",
      "5812                  0        0.0000                  50.0         0.00   \n",
      "5849                  0        0.0000                 200.0         0.00   \n",
      "5871                  0        0.0000                  12.0         0.00   \n",
      "5959                  0        0.0000                  40.0         0.00   \n",
      "6579                  0        0.0000                  30.0         0.00   \n",
      "6791                  0        0.0000                   5.0         0.00   \n",
      "7041             Basins     4284.8931                   1.0      4284.89   \n",
      "\n",
      "      Doc. Type            Region           Channel   Payment Terms  \\\n",
      "363          IN  BUGOLOBI WALKINS  BUGOLOBI WALKINS          C_Cash   \n",
      "399          IN  BUGOLOBI WALKINS  BUGOLOBI WALKINS          C_Cash   \n",
      "1987         IN     SOUTH CENTRAL      DISTRIBUTION          C_Cash   \n",
      "2199         IN          NORTHERN      DISTRIBUTION          C_Cash   \n",
      "2322         IN     NORTH CENTRAL      DISTRIBUTION          C_Cash   \n",
      "2489         IN     SOUTH CENTRAL      DISTRIBUTION          C_Cash   \n",
      "2523         IN           EASTERN      DISTRIBUTION  - Cash Basic -   \n",
      "3238         IN     SOUTH CENTRAL      DISTRIBUTION          C_Cash   \n",
      "3297         IN     NORTH CENTRAL      DISTRIBUTION          C_Cash   \n",
      "4122         IN     SOUTH CENTRAL      DISTRIBUTION          C_Cash   \n",
      "4187         IN           EASTERN      DISTRIBUTION          C_Cash   \n",
      "4188         IN           EASTERN      DISTRIBUTION          C_Cash   \n",
      "4189         IN           EASTERN      DISTRIBUTION          C_Cash   \n",
      "4535         IN     NORTH CENTRAL      DISTRIBUTION          C_Cash   \n",
      "4747         IN     SOUTH CENTRAL      DISTRIBUTION          C_Cash   \n",
      "4903         IN       INSTITUTION       INSTITUTION          C_Cash   \n",
      "4999         IN       INSTITUTION       INSTITUTION          C_Cash   \n",
      "5095         IN       INSTITUTION       INSTITUTION          C_Cash   \n",
      "5389         IN      SUPERMARKETS      SUPERMARKETS         C_Net30   \n",
      "5392         IN      SUPERMARKETS      SUPERMARKETS         C_Net30   \n",
      "5812         IN      SUPERMARKETS      SUPERMARKETS         C_Net30   \n",
      "5849         IN      SUPERMARKETS      SUPERMARKETS         C_Net14   \n",
      "5871         IN      SUPERMARKETS      SUPERMARKETS         C_Net14   \n",
      "5959         IN      SUPERMARKETS      SUPERMARKETS         C_Net30   \n",
      "6579         IN      SUPERMARKETS      SUPERMARKETS  - Cash Basic -   \n",
      "6791         IN       UMA WALKINS       UMA Walkins          C_Cash   \n",
      "7041         IN       UMA WALKINS       UMA Walkins          C_Cash   \n",
      "\n",
      "     Gross Profit  Week  \n",
      "363          0.00  Wk10  \n",
      "399          0.00  Wk10  \n",
      "1987         0.00   Wk5  \n",
      "2199    553403.02   Wk1  \n",
      "2322    176535.15   Wk1  \n",
      "2489     34334.92  Wk10  \n",
      "2523     57224.87  Wk10  \n",
      "3238   2137200.51   Wk9  \n",
      "3297   1068600.25   Wk9  \n",
      "4122         0.00   Wk6  \n",
      "4187         0.00   Wk6  \n",
      "4188         0.00   Wk6  \n",
      "4189    597192.38   Wk6  \n",
      "4535   1068600.25   Wk5  \n",
      "4747         0.00   Wk5  \n",
      "4903         0.00  Wk10  \n",
      "4999         0.00   Wk6  \n",
      "5095         0.00   Wk5  \n",
      "5389         0.00   Wk5  \n",
      "5392         0.00   Wk5  \n",
      "5812         0.00   Wk1  \n",
      "5849         0.00  Wk10  \n",
      "5871         0.00  Wk10  \n",
      "5959         0.00  Wk10  \n",
      "6579         0.00   Wk5  \n",
      "6791         0.00   Wk5  \n",
      "7041       881.89  Wk10  \n",
      "\n",
      "[27 rows x 21 columns]\n"
     ]
    }
   ],
   "source": [
    "duplicates = transactions[transactions.duplicated()]\n",
    "\n",
    "# Display the duplicates\n",
    "print(duplicates)"
   ]
  },
  {
   "cell_type": "code",
   "execution_count": 18,
   "id": "c486db1c-706c-4555-b68b-e6508df65228",
   "metadata": {},
   "outputs": [
    {
     "name": "stdout",
     "output_type": "stream",
     "text": [
      "Empty DataFrame\n",
      "Columns: [Transaction Number, Origin No., Posting Date, Due Date, Month-YY, BP Code, BP Name, Sales Employee Name, Item No., Item Description, Item Subcategory, Product Category, Selling Price, Actual Quantity Sold, Sales Value, Doc. Type, Region, Channel, Payment Terms, Gross Profit, Week]\n",
      "Index: []\n",
      "\n",
      "[0 rows x 21 columns]\n"
     ]
    }
   ],
   "source": [
    "#dropping the duplicates\n",
    "transactions = transactions.drop_duplicates()\n",
    "\n",
    "#check for duplicates again\n",
    "duplicates = transactions[transactions.duplicated()]\n",
    "\n",
    "# Display the duplicates\n",
    "print(duplicates)"
   ]
  },
  {
   "cell_type": "raw",
   "id": "a71042e2-c184-4e01-bac0-087eda0def5c",
   "metadata": {},
   "source": [
    "Lets replace blanks with Not Specified if any "
   ]
  },
  {
   "cell_type": "code",
   "execution_count": 28,
   "id": "7fb2b35e-8cc1-464b-a12f-be7bb3c81a40",
   "metadata": {},
   "outputs": [],
   "source": [
    "transactions = transactions.replace('', pd.NA).fillna('Not specified')\n",
    "transactions = transactions.replace('nan', pd.NA).fillna('Not specified')"
   ]
  },
  {
   "cell_type": "raw",
   "id": "207f416d-82b7-403b-824d-5d69953a44eb",
   "metadata": {},
   "source": [
    "Lets Check the values in the Category fields to ensure they are sensible since they will be"
   ]
  },
  {
   "cell_type": "code",
   "execution_count": 29,
   "id": "cac2dd87-2d1f-4e7c-9c14-60292ee8e85e",
   "metadata": {},
   "outputs": [
    {
     "data": {
      "text/plain": [
       "array(['UBL OUTLET - RETAIL', 'JANINE SERVICES LTD',\n",
       "       'BASE 1 OUTLET - RETAIL', 'BASE 1 OUTLET - WHOLESALE',\n",
       "       'UBL OUTLET - WHOLESALE', 'NAKASERO HOSPITAL LIMITED',\n",
       "       'CIVTEC AFRICA LIMITED', 'FACTORY OUTLET CASH SALES',\n",
       "       'NHOP STAFF MEMBERS', 'FLOCKLINE CONSULTS LIMITED',\n",
       "       'HAN & IVA SOUVENIR DOGS LIMITED', 'TERRAIN SERVICES LIMITED',\n",
       "       'CASH SALES WHOLESALE', 'CREATIVE DIRECTORS',\n",
       "       'KOOKEE ENTERPRISES LIMITED', 'MISS EPHRANCE NAMATUNGO',\n",
       "       'SILLAH LIMITED', 'FENIX INTERNATIONAL UGANDA LIMITED',\n",
       "       'LEADCOM UGANDA LIMITED', 'INDIGO HOSPITALITY LIMITED',\n",
       "       'BEST CERAMICS UGANDA LIMITED', 'INPUTI LTD',\n",
       "       'NILE BREWERIES LIMITED', 'COCA-COLA BEVERAGES UGANDA LIMITED',\n",
       "       'MS KATE TUSIIME', 'RONAM INTERNATIONAL LIMITED',\n",
       "       'Mr. ALEX MUHUMUZA', 'Mr. ELIOD KANSIIME',\n",
       "       'VESOM PLASTICS AND GENERAL MERCHANDISE SMC LIMITED',\n",
       "       'MEWA DUCU ENTERPRISES LIMITED', 'EQUIPCARE INVESTMENTS LTD',\n",
       "       'ANTHERBETH ENTERPRISES (U) LTD', 'Mr. RONALD MBAINE',\n",
       "       'Mr. BENEFANSI MUWONGE', 'Mr. MAXIMIANO TUSHABOMWE',\n",
       "       'LUBWAMA NDUGGA LIMITED', 'MEWA DUCU (U) LTD',\n",
       "       'JESANO TRADERS LTD', 'Mr. TARASISIO GUMISIRIZA',\n",
       "       'JAN MOHAMMED ENTERPRISES LTD.',\n",
       "       'KJAMBO COMMODITIES DISTRIBUTORS LIMITED', 'Mr. STEVEN SERUWAGI',\n",
       "       'BANYWANI HARDWARE CENTRE LTD', 'KIKIB INVESTMENTS LIMITED',\n",
       "       'Mr. JACKSON OUMA', 'SEAFORD ENTERPRISES LIMITED',\n",
       "       'VENJIX TECHNOLOGIES LIMITED', 'Mr. JOSEPH TUMWESIGE',\n",
       "       'CONTACT TELECOM LIMITED', 'ADRIANO TUMUSHABE',\n",
       "       'SEVEN EAGLES INVESTMENTS LIMITED', 'SMILE DISTRIBUTORS LIMITED',\n",
       "       'Mr. JUSTINE TUKUNDANE', 'Mr. AMON MUGIZI',\n",
       "       'YOGIBAPA INVESTMENTS LTD', 'MBALE RESORT HOTEL',\n",
       "       'GOODWILL SHOPPING CENTRE LTD', 'HINGHANDA ENTERPRISES LIMITED',\n",
       "       'GEVAS ENTERPRISES LTD', 'DOKOLO CHEAP STORE LIMITED',\n",
       "       'OASIS WATER AND BEVERAGES INDUSTRIES LTD.',\n",
       "       'MOVIT PRODUCTS LIMITED',\n",
       "       'CENTENARY RURAL DEVELOPMENT BANK LIMITED',\n",
       "       'PIFFANY COMPANY LIMITED', 'ORION CONCEPTS LIMITED',\n",
       "       'AFRIBON (U) SMC  LIMITED', 'PRIME IMPEX 2001 LIMITED',\n",
       "       'GLOBO CHEMICALS UGANDA LIMITED', 'PEACOCK PAINTS LTD',\n",
       "       'SPEKE HOTEL (1996) LIMITED', 'KOLPING HOLDINGS (U) LIMITED',\n",
       "       'LIXIL Corporation', 'JESA FARM DAIRY LIMITED',\n",
       "       'CROWN BEVERAGES LIMITED', 'KANSAI PLASCON UGANDA LIMITED',\n",
       "       'UGANDA BATTERIES LIMITED', 'VISION PLUS ENTERPRISES LIMITED',\n",
       "       'EVIDENCE ACTION LIMITED', 'TONA STAR PRODUCTS  LTD',\n",
       "       'SAMEG CHEMICAL PRODUCTS (U) LTD', 'FINANCE TRUST BANK LIMITED',\n",
       "       'KABIRA COUNTRY CLUB LIMITED',\n",
       "       'MUGWANYA PREPARATORY SCHOOL - KABOJJA',\n",
       "       'A & M EXECUTIVE CLEANING SERVICES CO. LIMITED',\n",
       "       'GREENHILL ACADEMY LTD', 'TRAIN A CHILD INTERNATIONAL LIMITED',\n",
       "       'FINCA - UGANDA', 'PROGRESS EAST AFRICA BUSINESS GROUP LIMITED',\n",
       "       'ALEXANDER PERFUMERY LIMITED', 'B.P.C. CHEMICALS LTD.',\n",
       "       'PEARL DEVELOPMENT GROUP LIMITED', 'ORIGINAL BEST CO.',\n",
       "       'UMA JENI SALES', 'Mr. EDONY JOHNSON', 'MISS. PHIONAH TURUHUKIRE',\n",
       "       'Ms. AGATHA NAMUTEBI', 'GUMWE CLIFF SUPPLIES UGANDA LIMITED',\n",
       "       'MISS. MARGRET MUGISA', 'SANYU 2021 DISTRIBUTES LIMITED',\n",
       "       'EMBASSY SUPERMARKET(U) LTD', 'WEALZ ENTERPRISES LIMITED',\n",
       "       'SOMBE SUPERMARKET LTD', 'Mr. ROBERT KIBIRA LUTAAYA',\n",
       "       'KENJOY ENTERPRISES LIMITED', 'TANGO SHOPPERS SMC LTD',\n",
       "       'CAPITAL SHOPPERS LIMITED', 'STANDARD SUPERMARKET LIMITED',\n",
       "       'BENCO LINERS LTD', 'JAZZ SUPERMARKETS LIMITED',\n",
       "       'FRAINE SUPERMARKET LIMITED', 'PAUFLO FOODS LIMITED',\n",
       "       'SHOPWISE RETAIL LTD', 'COPIA UGANDA LIMITED',\n",
       "       'D & M SUPERMARKET LTD', 'PUSHA ONLINE LIMITED',\n",
       "       'MASTER SUPERMARKET LIMITED', 'HARDWARE WORLD LIMITED',\n",
       "       'BESTBUY SUPERMARKETS LIMITED', 'DELUXE TRADING SMC LIMITED',\n",
       "       'MILLENIUM 2000 (U) LIMITED', 'WILSEN SUPERMARKET LIMITED',\n",
       "       'FRESCO SUPERMARKET LIMITED', 'FREBO SUPERMARKET LIMITED',\n",
       "       'QUICK PICK SUPERMARKET', 'Ms. VANESSA CAROLINE MWEBESA',\n",
       "       'RABLINES TRADING COMPANY LIMITED', 'UMA OUTLET - RETAIL',\n",
       "       'UMA OUTLET - WHOLESALE', 'UMA OUTLET SALES'], dtype=object)"
      ]
     },
     "execution_count": 29,
     "metadata": {},
     "output_type": "execute_result"
    }
   ],
   "source": [
    "transactions['BP Name'].unique()"
   ]
  },
  {
   "cell_type": "code",
   "execution_count": 30,
   "id": "2f1da557-fd45-4ce1-a6d8-2d9ec1b2ccf7",
   "metadata": {},
   "outputs": [
    {
     "data": {
      "text/plain": [
       "array(['Mercy Zalwango', '-No Sales Employee-', 'Patricia Nakato',\n",
       "       'Kibirango Tonny', 'Sheilla Atuhaire', 'Nina Namatovu',\n",
       "       'Ronald Musiriki', 'Herbert Musinguzi', 'Namutebi Phiona',\n",
       "       'Esiat Emmaneal', 'Esiat Emmanuel', 'Mirembe Harriet',\n",
       "       'Moses Wamono', 'Amon Namanya', 'Lwanga Harriet', 'Nankya Lilian',\n",
       "       'Wandera Rogers', 'Tony Kutosi', 'Ninsiima Anitah',\n",
       "       'Athieno Juliet Constance', 'Edwin Buhire', 'Jackline Nantaba',\n",
       "       'Kyomuhangi Alice', 'Alice Kyomuhangi', 'Doreen Baraba'],\n",
       "      dtype=object)"
      ]
     },
     "execution_count": 30,
     "metadata": {},
     "output_type": "execute_result"
    }
   ],
   "source": [
    "transactions['Sales Employee Name'].unique()"
   ]
  },
  {
   "cell_type": "code",
   "execution_count": 31,
   "id": "bbb3b9e2-0951-49a0-9e49-0d9d42c84c80",
   "metadata": {},
   "outputs": [
    {
     "data": {
      "text/plain": [
       "array(['Furniture', 'Tableware', 'Buckets', '0', 'Dental', 'Basins',\n",
       "       'Packaging J/Cans', 'Packaging Crates', 'Packaging Bottles',\n",
       "       'Writing Instruments', 'Packaging Buckets', 'Agriculture',\n",
       "       'Baskets', 'Not specified', 'SATO Products', 'Trading Items',\n",
       "       'Printing', 'Packaging -Film', 'Battery Components'], dtype=object)"
      ]
     },
     "execution_count": 31,
     "metadata": {},
     "output_type": "execute_result"
    }
   ],
   "source": [
    "transactions['Product Category'].unique()"
   ]
  },
  {
   "cell_type": "code",
   "execution_count": 32,
   "id": "860671f0-1430-46fe-8482-4b0263a5eb15",
   "metadata": {},
   "outputs": [
    {
     "data": {
      "text/plain": [
       "array(['Furniture', 'Tableware', 'Buckets', 'Not specified', 'Dental',\n",
       "       'Basins', 'Packaging J/Cans', 'Packaging Crates',\n",
       "       'Packaging Bottles', 'Writing Instruments', 'Packaging Buckets',\n",
       "       'Agriculture', 'Baskets', 'SATO Products', 'Trading Items',\n",
       "       'Printing', 'Packaging -Film', 'Battery Components'], dtype=object)"
      ]
     },
     "execution_count": 32,
     "metadata": {},
     "output_type": "execute_result"
    }
   ],
   "source": [
    "#replace the '0' with 'Not specified'\n",
    "transactions['Product Category'] = transactions['Product Category'].replace('0', 'Not specified')\n",
    "transactions['Product Category'].unique()"
   ]
  },
  {
   "cell_type": "code",
   "execution_count": 33,
   "id": "8db8322e-5076-4965-8abf-f199ed99679f",
   "metadata": {},
   "outputs": [
    {
     "data": {
      "text/plain": [
       "array(['BUGOLOBI WALKINS', 'CRATES', 'MID-WEST', 'SOUTH CENTRAL',\n",
       "       'SOUTH WEST', 'NORTH CENTRAL', 'NORTHERN', 'EASTERN', 'WEST NILE',\n",
       "       'EXPORT', 'INSTITUTION', 'UMA WALKINS', 'Related Parties',\n",
       "       'SUPERMARKETS'], dtype=object)"
      ]
     },
     "execution_count": 33,
     "metadata": {},
     "output_type": "execute_result"
    }
   ],
   "source": [
    "transactions['Region'].unique()"
   ]
  },
  {
   "cell_type": "code",
   "execution_count": 34,
   "id": "9556ba73-9c70-4acd-bed4-bb4ca25728e4",
   "metadata": {},
   "outputs": [
    {
     "data": {
      "text/plain": [
       "array(['BUGOLOBI WALKINS', 'CRATES', 'DISTRIBUTION', 'EXPORT',\n",
       "       'INSTITUTION', 'JeNi', 'RELATED PARTIES', 'SUPERMARKETS',\n",
       "       'UMA Walkins'], dtype=object)"
      ]
     },
     "execution_count": 34,
     "metadata": {},
     "output_type": "execute_result"
    }
   ],
   "source": [
    "transactions['Channel'].unique()"
   ]
  },
  {
   "cell_type": "code",
   "execution_count": 36,
   "id": "18bc62be-c53b-493d-9334-c3ac8f2513ab",
   "metadata": {},
   "outputs": [],
   "source": [
    "#Export clean data to an Excel file\n",
    "transactions.to_excel('cleaned_data.xlsx', index=False)"
   ]
  },
  {
   "cell_type": "markdown",
   "id": "d67d06ae-8c2a-4f9e-a89c-a2e84b7f3b85",
   "metadata": {},
   "source": [
    "2. Is the data clean?"
   ]
  },
  {
   "cell_type": "raw",
   "id": "0aa955d2-b525-4aaf-b9e4-ec15433ab186",
   "metadata": {},
   "source": [
    "Answer: The data was not clean, But it has been cleaned and a clean copy exported as cleaned_data.xlsx"
   ]
  },
  {
   "cell_type": "markdown",
   "id": "65330ad6-b1dd-4cf6-942d-c3409ed8aa98",
   "metadata": {},
   "source": [
    "3. What products are most selling? (Rationale: to know what products to produce more of)"
   ]
  },
  {
   "cell_type": "code",
   "execution_count": null,
   "id": "b10a5b90-b26a-4dba-b4d9-c359416ac094",
   "metadata": {},
   "outputs": [],
   "source": []
  }
 ],
 "metadata": {
  "kernelspec": {
   "display_name": "Python 3 (ipykernel)",
   "language": "python",
   "name": "python3"
  },
  "language_info": {
   "codemirror_mode": {
    "name": "ipython",
    "version": 3
   },
   "file_extension": ".py",
   "mimetype": "text/x-python",
   "name": "python",
   "nbconvert_exporter": "python",
   "pygments_lexer": "ipython3",
   "version": "3.11.7"
  }
 },
 "nbformat": 4,
 "nbformat_minor": 5
}
