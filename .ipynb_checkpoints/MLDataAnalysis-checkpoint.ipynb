{
 "cells": [
  {
   "cell_type": "markdown",
   "id": "bce8bb39-af73-414f-bf9d-c22679b81c7d",
   "metadata": {},
   "source": [
    "My Questions:"
   ]
  },
  {
   "cell_type": "markdown",
   "id": "4a17f4ad-0e38-4e68-b271-5aa476564f9b",
   "metadata": {},
   "source": [
    "Questions that helped me select My Dataset:"
   ]
  },
  {
   "cell_type": "raw",
   "id": "1beb37d3-0e06-49e6-9db8-59ca0e7f8e7b",
   "metadata": {},
   "source": [
    "1. What value can Machine Learning add to my work?"
   ]
  },
  {
   "cell_type": "markdown",
   "id": "1d6c179f-bb7f-44d0-afcc-76e1aecce4a6",
   "metadata": {},
   "source": [
    "Data Wrangling Questions:"
   ]
  },
  {
   "cell_type": "raw",
   "id": "c75ef145-e0e1-47f0-a5e1-db737e05ebb3",
   "metadata": {},
   "source": [
    "2. Is the data clean?"
   ]
  },
  {
   "cell_type": "markdown",
   "id": "feff79d4-8a62-4012-8de7-cdb269a092cb",
   "metadata": {},
   "source": [
    "Exploratory Data Analysis Questions:"
   ]
  },
  {
   "cell_type": "raw",
   "id": "1384e34e-fd93-4118-9a07-cba4cd45e006",
   "metadata": {},
   "source": [
    "Exploratory Data Analysis Questions:"
   ]
  },
  {
   "cell_type": "raw",
   "id": "5581a19b-2585-42d8-8a4c-56700a0889c2",
   "metadata": {},
   "source": [
    "3. What products are most selling? (Rationale: to know what products to produce more of)"
   ]
  },
  {
   "cell_type": "raw",
   "id": "98b9c7ff-de43-4499-a8c2-78471e8dcb17",
   "metadata": {},
   "source": [
    "4. What are the best performing regions? (Rationale: to know what regions to send more products to)"
   ]
  },
  {
   "cell_type": "raw",
   "id": "4bd7b5ed-952a-4986-bec4-a4fcd73ec0d0",
   "metadata": {},
   "source": [
    "5. What are the best performing Channels? (Rationale: to know which channel to more send products through)"
   ]
  },
  {
   "cell_type": "raw",
   "id": "d96b25e9-6172-4c5b-b5e1-514e6338f118",
   "metadata": {},
   "source": [
    "6. What are the best-performing Sales Employees? (Rationale: To recognise the high performing people and reward them as a means of motivating the rest)"
   ]
  },
  {
   "cell_type": "raw",
   "id": "cef03301-d747-47f0-b67c-a578465abde2",
   "metadata": {},
   "source": [
    "7. What are the best performing BP? (Rationale: To do our best to keep our best Customers)"
   ]
  },
  {
   "cell_type": "markdown",
   "id": "1e208e13-13df-4368-a4f4-cb16c3ab3e6a",
   "metadata": {},
   "source": [
    "The Answers"
   ]
  },
  {
   "cell_type": "markdown",
   "id": "3cef7fd4-75d3-4536-aae1-3da2af70fe13",
   "metadata": {},
   "source": [
    "1. What value can Machine Learning add to my work?"
   ]
  },
  {
   "cell_type": "raw",
   "id": "782617b3-b3d0-4ec2-9b2d-68fea33c1f70",
   "metadata": {},
   "source": [
    "I noted that one of our clients struggles with analysis of their transaction data. They would like to make better decisions for their business going forward. Issues to do with, what products can we produce more of, how can we identify and reward our best performing sales employees, how are our channels performing. How are we doing in the different regions we operate in? Given the opportunity that this course has provided us with, I think this is a way Machine learning can add value to my work. (ie: through applying techniques we are learning to satisfy the desires of the client)"
   ]
  },
  {
   "cell_type": "markdown",
   "id": "8328171a-9793-40bb-aad2-aa3a1bc84d91",
   "metadata": {},
   "source": [
    "The Transactions Dataset"
   ]
  },
  {
   "cell_type": "code",
   "execution_count": 2,
   "id": "91dc08ae-12d1-48cf-af6c-a038deec8eb8",
   "metadata": {},
   "outputs": [],
   "source": [
    "import pandas as pd"
   ]
  },
  {
   "cell_type": "code",
   "execution_count": 3,
   "id": "ecd8f404-102b-416b-807b-8ce8dc11b12f",
   "metadata": {},
   "outputs": [],
   "source": [
    "transactions = pd.read_excel('transactions.xlsx')"
   ]
  },
  {
   "cell_type": "code",
   "execution_count": 4,
   "id": "9801f065-d484-422b-a073-bea9367c01b5",
   "metadata": {},
   "outputs": [
    {
     "data": {
      "text/html": [
       "<div>\n",
       "<style scoped>\n",
       "    .dataframe tbody tr th:only-of-type {\n",
       "        vertical-align: middle;\n",
       "    }\n",
       "\n",
       "    .dataframe tbody tr th {\n",
       "        vertical-align: top;\n",
       "    }\n",
       "\n",
       "    .dataframe thead th {\n",
       "        text-align: right;\n",
       "    }\n",
       "</style>\n",
       "<table border=\"1\" class=\"dataframe\">\n",
       "  <thead>\n",
       "    <tr style=\"text-align: right;\">\n",
       "      <th></th>\n",
       "      <th>Transaction Number</th>\n",
       "      <th>Origin No.</th>\n",
       "      <th>Posting Date</th>\n",
       "      <th>Due Date</th>\n",
       "      <th>Month-YY</th>\n",
       "      <th>BP Code</th>\n",
       "      <th>BP Name</th>\n",
       "      <th>Sales Employee Name</th>\n",
       "      <th>Item No.</th>\n",
       "      <th>Item Description</th>\n",
       "      <th>...</th>\n",
       "      <th>Product Category</th>\n",
       "      <th>Selling Price</th>\n",
       "      <th>Actual Quantity Sold</th>\n",
       "      <th>Sales Value</th>\n",
       "      <th>Doc. Type</th>\n",
       "      <th>Region</th>\n",
       "      <th>Channel</th>\n",
       "      <th>Payment Terms</th>\n",
       "      <th>Gross Profit</th>\n",
       "      <th>Week</th>\n",
       "    </tr>\n",
       "  </thead>\n",
       "  <tbody>\n",
       "    <tr>\n",
       "      <th>0</th>\n",
       "      <td>481205</td>\n",
       "      <td>53133</td>\n",
       "      <td>2024-01-31</td>\n",
       "      <td>31/01/24</td>\n",
       "      <td>Jan-24</td>\n",
       "      <td>CIND0824</td>\n",
       "      <td>UBL OUTLET - RETAIL</td>\n",
       "      <td>Mercy Zalwango</td>\n",
       "      <td>IN102009</td>\n",
       "      <td>Chairs - Easy - White</td>\n",
       "      <td>...</td>\n",
       "      <td>Furniture</td>\n",
       "      <td>20640.403</td>\n",
       "      <td>50.0</td>\n",
       "      <td>1032020.15</td>\n",
       "      <td>IN</td>\n",
       "      <td>BUGOLOBI WALKINS</td>\n",
       "      <td>BUGOLOBI WALKINS</td>\n",
       "      <td>C_Cash</td>\n",
       "      <td>403820.15</td>\n",
       "      <td>Wk5</td>\n",
       "    </tr>\n",
       "    <tr>\n",
       "      <th>1</th>\n",
       "      <td>480662</td>\n",
       "      <td>53129</td>\n",
       "      <td>2024-01-31</td>\n",
       "      <td>31/01/24</td>\n",
       "      <td>Jan-24</td>\n",
       "      <td>CIND0824</td>\n",
       "      <td>UBL OUTLET - RETAIL</td>\n",
       "      <td>Mercy Zalwango</td>\n",
       "      <td>IN102012</td>\n",
       "      <td>Chairs - Easy - Green</td>\n",
       "      <td>...</td>\n",
       "      <td>Furniture</td>\n",
       "      <td>20640.403</td>\n",
       "      <td>2.0</td>\n",
       "      <td>41280.81</td>\n",
       "      <td>IN</td>\n",
       "      <td>BUGOLOBI WALKINS</td>\n",
       "      <td>BUGOLOBI WALKINS</td>\n",
       "      <td>C_Cash</td>\n",
       "      <td>16152.81</td>\n",
       "      <td>Wk5</td>\n",
       "    </tr>\n",
       "    <tr>\n",
       "      <th>2</th>\n",
       "      <td>480662</td>\n",
       "      <td>53129</td>\n",
       "      <td>2024-01-31</td>\n",
       "      <td>31/01/24</td>\n",
       "      <td>Jan-24</td>\n",
       "      <td>CIND0824</td>\n",
       "      <td>UBL OUTLET - RETAIL</td>\n",
       "      <td>Mercy Zalwango</td>\n",
       "      <td>IN102014</td>\n",
       "      <td>Chairs - Easy - Grey</td>\n",
       "      <td>...</td>\n",
       "      <td>Furniture</td>\n",
       "      <td>20640.403</td>\n",
       "      <td>2.0</td>\n",
       "      <td>41280.81</td>\n",
       "      <td>IN</td>\n",
       "      <td>BUGOLOBI WALKINS</td>\n",
       "      <td>BUGOLOBI WALKINS</td>\n",
       "      <td>C_Cash</td>\n",
       "      <td>16152.81</td>\n",
       "      <td>Wk5</td>\n",
       "    </tr>\n",
       "    <tr>\n",
       "      <th>3</th>\n",
       "      <td>480662</td>\n",
       "      <td>53129</td>\n",
       "      <td>2024-01-31</td>\n",
       "      <td>31/01/24</td>\n",
       "      <td>Jan-24</td>\n",
       "      <td>CIND0824</td>\n",
       "      <td>UBL OUTLET - RETAIL</td>\n",
       "      <td>Mercy Zalwango</td>\n",
       "      <td>IN102070</td>\n",
       "      <td>Chairs - Easy - Clip cap blue</td>\n",
       "      <td>...</td>\n",
       "      <td>Furniture</td>\n",
       "      <td>20640.403</td>\n",
       "      <td>2.0</td>\n",
       "      <td>41280.81</td>\n",
       "      <td>IN</td>\n",
       "      <td>BUGOLOBI WALKINS</td>\n",
       "      <td>BUGOLOBI WALKINS</td>\n",
       "      <td>C_Cash</td>\n",
       "      <td>16152.81</td>\n",
       "      <td>Wk5</td>\n",
       "    </tr>\n",
       "    <tr>\n",
       "      <th>4</th>\n",
       "      <td>480662</td>\n",
       "      <td>53129</td>\n",
       "      <td>2024-01-31</td>\n",
       "      <td>31/01/24</td>\n",
       "      <td>Jan-24</td>\n",
       "      <td>CIND0824</td>\n",
       "      <td>UBL OUTLET - RETAIL</td>\n",
       "      <td>Mercy Zalwango</td>\n",
       "      <td>IN102079</td>\n",
       "      <td>Chairs - Easy - Purple</td>\n",
       "      <td>...</td>\n",
       "      <td>Furniture</td>\n",
       "      <td>20640.403</td>\n",
       "      <td>2.0</td>\n",
       "      <td>41280.81</td>\n",
       "      <td>IN</td>\n",
       "      <td>BUGOLOBI WALKINS</td>\n",
       "      <td>BUGOLOBI WALKINS</td>\n",
       "      <td>C_Cash</td>\n",
       "      <td>16152.81</td>\n",
       "      <td>Wk5</td>\n",
       "    </tr>\n",
       "  </tbody>\n",
       "</table>\n",
       "<p>5 rows × 21 columns</p>\n",
       "</div>"
      ],
      "text/plain": [
       "   Transaction Number  Origin No. Posting Date  Due Date Month-YY   BP Code  \\\n",
       "0              481205       53133   2024-01-31  31/01/24   Jan-24  CIND0824   \n",
       "1              480662       53129   2024-01-31  31/01/24   Jan-24  CIND0824   \n",
       "2              480662       53129   2024-01-31  31/01/24   Jan-24  CIND0824   \n",
       "3              480662       53129   2024-01-31  31/01/24   Jan-24  CIND0824   \n",
       "4              480662       53129   2024-01-31  31/01/24   Jan-24  CIND0824   \n",
       "\n",
       "               BP Name Sales Employee Name  Item No.  \\\n",
       "0  UBL OUTLET - RETAIL      Mercy Zalwango  IN102009   \n",
       "1  UBL OUTLET - RETAIL      Mercy Zalwango  IN102012   \n",
       "2  UBL OUTLET - RETAIL      Mercy Zalwango  IN102014   \n",
       "3  UBL OUTLET - RETAIL      Mercy Zalwango  IN102070   \n",
       "4  UBL OUTLET - RETAIL      Mercy Zalwango  IN102079   \n",
       "\n",
       "                Item Description  ... Product Category Selling Price  \\\n",
       "0          Chairs - Easy - White  ...        Furniture     20640.403   \n",
       "1          Chairs - Easy - Green  ...        Furniture     20640.403   \n",
       "2           Chairs - Easy - Grey  ...        Furniture     20640.403   \n",
       "3  Chairs - Easy - Clip cap blue  ...        Furniture     20640.403   \n",
       "4         Chairs - Easy - Purple  ...        Furniture     20640.403   \n",
       "\n",
       "   Actual Quantity Sold  Sales Value  Doc. Type            Region  \\\n",
       "0                  50.0   1032020.15         IN  BUGOLOBI WALKINS   \n",
       "1                   2.0     41280.81         IN  BUGOLOBI WALKINS   \n",
       "2                   2.0     41280.81         IN  BUGOLOBI WALKINS   \n",
       "3                   2.0     41280.81         IN  BUGOLOBI WALKINS   \n",
       "4                   2.0     41280.81         IN  BUGOLOBI WALKINS   \n",
       "\n",
       "            Channel Payment Terms Gross Profit  Week  \n",
       "0  BUGOLOBI WALKINS        C_Cash    403820.15   Wk5  \n",
       "1  BUGOLOBI WALKINS        C_Cash     16152.81   Wk5  \n",
       "2  BUGOLOBI WALKINS        C_Cash     16152.81   Wk5  \n",
       "3  BUGOLOBI WALKINS        C_Cash     16152.81   Wk5  \n",
       "4  BUGOLOBI WALKINS        C_Cash     16152.81   Wk5  \n",
       "\n",
       "[5 rows x 21 columns]"
      ]
     },
     "execution_count": 4,
     "metadata": {},
     "output_type": "execute_result"
    }
   ],
   "source": [
    "transactions.head()"
   ]
  },
  {
   "cell_type": "markdown",
   "id": "1b145bbb-0500-47c7-8ae8-201b415e3735",
   "metadata": {},
   "source": [
    "2. Is the data clean?"
   ]
  },
  {
   "cell_type": "raw",
   "id": "99f750f1-5a1c-4b1d-9306-260cc5b907b5",
   "metadata": {},
   "source": [
    "Let's Start by Validating the datatypes:"
   ]
  },
  {
   "cell_type": "code",
   "execution_count": 5,
   "id": "ec3e4dd5-1bc6-49c1-9bce-758650d595ac",
   "metadata": {},
   "outputs": [
    {
     "name": "stdout",
     "output_type": "stream",
     "text": [
      "Error: Transaction Number in row 0 should be a string, but is <class 'int'>\n"
     ]
    }
   ],
   "source": [
    "def validateDatatype():    \n",
    "    myStrings = ['Transaction Number','BP Code','BP Name','Sales Employee Name','Item No.','Item Description','Item Subcategory','Product Category','Region','Channel']\n",
    "    myDates = ['Posting Date']\n",
    "    myNumbers = ['Selling Price','Actual Quantity Sold','Sales Value','Gross Profit']\n",
    "    \n",
    "    # Validate data types\n",
    "    foundError = false\n",
    "    for index, row in transactions.iterrows():\n",
    "        for field in myStrings:\n",
    "            if not isinstance(row[field], str):\n",
    "                print(f\"Error: {field} in row {index} should be a string, but is {type(row[field])}\")\n",
    "                foundError = true\n",
    "                break\n",
    "    \n",
    "        for field in myDates:\n",
    "            try:\n",
    "                pd.to_datetime(row[field])\n",
    "            except ValueError:\n",
    "                print(f\"Error: {field} in row {index} should be a date, but is invalid\")\n",
    "                foundError = true\n",
    "                break\n",
    "    \n",
    "        for field in myNumbers:\n",
    "            try:\n",
    "                float(row[field])\n",
    "            except ValueError:\n",
    "                print(f\"Error: {field} in row {index} should be a number, but is {row[field]}\")\n",
    "                foundError = true\n",
    "                break\n",
    "        if(foundError):\n",
    "            break\n",
    "\n",
    "validateDatatype()"
   ]
  },
  {
   "cell_type": "raw",
   "id": "7df08aad-b8a5-4b15-b9c4-4ba8dd74ec64",
   "metadata": {},
   "source": [
    "Converting Transaction Number Field Datatype from int to String"
   ]
  },
  {
   "cell_type": "code",
   "execution_count": 34,
   "id": "908d761c-7cee-4cc0-a0a7-4904589877ba",
   "metadata": {},
   "outputs": [],
   "source": [
    "transactions['Transaction Number'] = transactions['Transaction Number'].astype(str)\n",
    "\n",
    "#lets test again\n"
   ]
  },
  {
   "cell_type": "code",
   "execution_count": null,
   "id": "c8615bbf-8272-4a3d-95f5-20681aebc197",
   "metadata": {},
   "outputs": [],
   "source": [
    "\n"
   ]
  },
  {
   "cell_type": "raw",
   "id": "e5a09903-0cb8-4909-a8b9-107e4d470c0b",
   "metadata": {},
   "source": [
    "Let's Check for leading or trailing spaces:"
   ]
  },
  {
   "cell_type": "code",
   "execution_count": 19,
   "id": "1f4cffb9-6a9f-420c-a2a6-8c2f02550b1b",
   "metadata": {},
   "outputs": [
    {
     "name": "stdout",
     "output_type": "stream",
     "text": [
      "None\n"
     ]
    }
   ],
   "source": [
    "if transactions['BP Code'].str.contains(r'^\\s|\\s$', regex=True).any():\n",
    "    print(\"Spaces found!\")\n",
    "else:\n",
    "    print(\"None\")"
   ]
  },
  {
   "cell_type": "code",
   "execution_count": 21,
   "id": "02e1a7a0-09f0-4ab1-ab80-9cd7b1a9e6d6",
   "metadata": {},
   "outputs": [
    {
     "name": "stdout",
     "output_type": "stream",
     "text": [
      "None\n"
     ]
    }
   ],
   "source": [
    "if transactions['BP Name'].str.contains(r'^\\s|\\s$', regex=True).any():\n",
    "    print(\"Spaces found!\")\n",
    "else:\n",
    "    print(\"None\")"
   ]
  },
  {
   "cell_type": "code",
   "execution_count": 22,
   "id": "6b5d0548-5d49-4597-a959-fe3f155140c8",
   "metadata": {},
   "outputs": [
    {
     "name": "stdout",
     "output_type": "stream",
     "text": [
      "None\n"
     ]
    }
   ],
   "source": [
    "if transactions['Sales Employee Name'].str.contains(r'^\\s|\\s$', regex=True).any():\n",
    "    print(\"Extra spaces found!\")\n",
    "else:\n",
    "    print(\"None\")"
   ]
  },
  {
   "cell_type": "code",
   "execution_count": 23,
   "id": "dba25726-d8e9-4870-974a-7da8d3fa3ea4",
   "metadata": {},
   "outputs": [
    {
     "name": "stdout",
     "output_type": "stream",
     "text": [
      "None\n"
     ]
    }
   ],
   "source": [
    "if transactions['Item No.'].str.contains(r'^\\s|\\s$', regex=True).any():\n",
    "    print(\"Spaces found!\")\n",
    "else:\n",
    "    print(\"None\")"
   ]
  },
  {
   "cell_type": "code",
   "execution_count": 24,
   "id": "a7f9f6be-e454-42f9-acf0-868cb668cb5b",
   "metadata": {},
   "outputs": [
    {
     "name": "stdout",
     "output_type": "stream",
     "text": [
      "None\n"
     ]
    }
   ],
   "source": [
    "if transactions['Item Description'].str.contains(r'^\\s|\\s$', regex=True).any():\n",
    "    print(\"Spaces found!\")\n",
    "else:\n",
    "    print(\"None\")"
   ]
  },
  {
   "cell_type": "code",
   "execution_count": 25,
   "id": "dbe37a5e-a4c0-4efa-a1f0-cc9550e39aa3",
   "metadata": {},
   "outputs": [
    {
     "name": "stdout",
     "output_type": "stream",
     "text": [
      "None\n"
     ]
    }
   ],
   "source": [
    "if transactions['Item Subcategory'].str.contains(r'^\\s|\\s$', regex=True).any():\n",
    "    print(\"Spaces found!\")\n",
    "else:\n",
    "    print(\"None\")"
   ]
  },
  {
   "cell_type": "code",
   "execution_count": 26,
   "id": "93c4d5e6-da68-43e5-a58c-8ab6556f14f1",
   "metadata": {},
   "outputs": [
    {
     "name": "stdout",
     "output_type": "stream",
     "text": [
      "None\n"
     ]
    }
   ],
   "source": [
    "if transactions['Product Category'].str.contains(r'^\\s|\\s$', regex=True).any():\n",
    "    print(\"Spaces found!\")\n",
    "else:\n",
    "    print(\"None\")"
   ]
  },
  {
   "cell_type": "code",
   "execution_count": 27,
   "id": "12be712a-3092-4092-99a7-f72b84159232",
   "metadata": {},
   "outputs": [
    {
     "name": "stdout",
     "output_type": "stream",
     "text": [
      "None\n"
     ]
    }
   ],
   "source": [
    "if transactions['Region'].str.contains(r'^\\s|\\s$', regex=True).any():\n",
    "    print(\"Spaces found!\")\n",
    "else:\n",
    "    print(\"None\")"
   ]
  },
  {
   "cell_type": "code",
   "execution_count": 28,
   "id": "2af6f6be-ccd5-4399-855e-6703bd2a649c",
   "metadata": {},
   "outputs": [
    {
     "name": "stdout",
     "output_type": "stream",
     "text": [
      "None\n"
     ]
    }
   ],
   "source": [
    "if transactions['Channel'].str.contains(r'^\\s|\\s$', regex=True).any():\n",
    "    print(\"Spaces found!\")\n",
    "else:\n",
    "    print(\"None\")"
   ]
  },
  {
   "cell_type": "raw",
   "id": "685c7ef5-f8fe-4589-bec7-efd672a638e2",
   "metadata": {},
   "source": [
    "Next, Lets Check for empty strings:"
   ]
  },
  {
   "cell_type": "code",
   "execution_count": null,
   "id": "9434854d-d0b4-4ee4-bdad-cd058d0ad47e",
   "metadata": {},
   "outputs": [],
   "source": [
    "myStrings = ['Transaction Number','BP Code','BP Name','Sales Employee Name','Item No.','Item Description','Item Subcategory','Product Category','Region','Channel']\n",
    "myDates = ['Posting Date']\n",
    "myNumbers = ['Selling Price','Actual Quantity Sold','Sales Value','Gross Profit']\n",
    "\n",
    "if df['text'].isnull().any() or df['text'].eq(\"\").any():\n",
    "    print(\"Empty strings found!\")"
   ]
  }
 ],
 "metadata": {
  "kernelspec": {
   "display_name": "Python 3 (ipykernel)",
   "language": "python",
   "name": "python3"
  },
  "language_info": {
   "codemirror_mode": {
    "name": "ipython",
    "version": 3
   },
   "file_extension": ".py",
   "mimetype": "text/x-python",
   "name": "python",
   "nbconvert_exporter": "python",
   "pygments_lexer": "ipython3",
   "version": "3.11.7"
  }
 },
 "nbformat": 4,
 "nbformat_minor": 5
}
